{
  "nbformat": 4,
  "nbformat_minor": 0,
  "metadata": {
    "colab": {
      "private_outputs": true,
      "provenance": [],
      "authorship_tag": "ABX9TyMplJYPecGdVwyfdgCCdkVI",
      "include_colab_link": true
    },
    "kernelspec": {
      "name": "python3",
      "display_name": "Python 3"
    },
    "language_info": {
      "name": "python"
    }
  },
  "cells": [
    {
      "cell_type": "markdown",
      "metadata": {
        "id": "view-in-github",
        "colab_type": "text"
      },
      "source": [
        "<a href=\"https://colab.research.google.com/github/Rishabh05022005/SpringBootcamp/blob/main/Day1.ipynb\" target=\"_parent\"><img src=\"https://colab.research.google.com/assets/colab-badge.svg\" alt=\"Open In Colab\"/></a>"
      ]
    },
    {
      "cell_type": "code",
      "execution_count": null,
      "metadata": {
        "id": "H5a46fZp4sLN"
      },
      "outputs": [],
      "source": [
        "import pandas as pd\n",
        "import matplotlib.pyplot as plt\n",
        "import seaborn as sns\n",
        "import numpy as np\n",
        "data = pd.read_csv('salary_data.csv')\n",
        "data.head()\n",
        "data.tail()\n",
        "data.info()\n",
        "data.describe()"
      ]
    },
    {
      "cell_type": "code",
      "source": [
        "plt.figure(figsize=(12,6))\n",
        "sns.pairplot(data,x_vars=['YearsExperience'],y_vars=['Salary'],size=7,kind='scatter')\n",
        "plt.xlabel('Years')\n",
        "plt.ylabel('Salary')\n",
        "plt.title('Salary Prediction')\n",
        "plt.show()"
      ],
      "metadata": {
        "id": "r42kcAxt5Dr2"
      },
      "execution_count": null,
      "outputs": []
    },
    {
      "cell_type": "code",
      "source": [
        "X = data[['YearsExperience']]\n",
        "y = data[['Salary']]"
      ],
      "metadata": {
        "id": "tVJ-XQQJ5HLl"
      },
      "execution_count": null,
      "outputs": []
    },
    {
      "cell_type": "code",
      "source": [
        "from sklearn.model_selection import train_test_split\n",
        "X_train, X_test, y_train, y_test = train_test_split(X, y, test_size=0.20, random_state=42)"
      ],
      "metadata": {
        "id": "XYvqkkYv5Knh"
      },
      "execution_count": null,
      "outputs": []
    },
    {
      "cell_type": "code",
      "source": [
        "import statsmodels.api as sm\n",
        "X_addC = sm.add_constant(X_train)\n",
        "model = sm.OLS(y_train, X_addC).fit()"
      ],
      "metadata": {
        "id": "7SA6j4yI5brb"
      },
      "execution_count": null,
      "outputs": []
    },
    {
      "cell_type": "code",
      "source": [
        "model.summary()"
      ],
      "metadata": {
        "id": "Ix-193IE5d7A"
      },
      "execution_count": null,
      "outputs": []
    },
    {
      "cell_type": "code",
      "source": [
        "print(model.rsquared, model.rsquared_adj)"
      ],
      "metadata": {
        "id": "5TkKRYRm5fVD"
      },
      "execution_count": null,
      "outputs": []
    },
    {
      "cell_type": "code",
      "source": [
        "from sklearn.linear_model import LinearRegression\n",
        "import numpy as np\n",
        "import matplotlib.pyplot as plt\n",
        "\n",
        "\n",
        "X = np.array(X_train).reshape((-1, 1))\n",
        "model = LinearRegression().fit(X_train, y_train)\n",
        "\n",
        "fig = plt.figure()\n",
        "ax = fig.add_subplot()\n",
        "\n",
        "plt.scatter(X_train, y_train, color='g')\n",
        "plt.scatter(X_test, y_test, color='b')\n",
        "\n",
        "plt.plot(X_train, model.predict(X_train),color='r')\n",
        "ax.text(1, 4, r'LR equation: $Y = a + bX$', fontsize=10)\n",
        "\n",
        "print(model.coef_[0], model.intercept_)"
      ],
      "metadata": {
        "id": "01L3NJUJ5hnx"
      },
      "execution_count": null,
      "outputs": []
    },
    {
      "cell_type": "code",
      "source": [
        "X_test_c = sm.add_constant(X_test)\n",
        "y_pred = model.predict(X_test_c)"
      ],
      "metadata": {
        "id": "tgO5mbnl5kfL"
      },
      "execution_count": null,
      "outputs": []
    },
    {
      "cell_type": "code",
      "source": [
        "X_test['Prediction'] = y_pred\n",
        "X_test['y_test'] = y_test"
      ],
      "metadata": {
        "id": "Yis026bT6SfZ"
      },
      "execution_count": null,
      "outputs": []
    },
    {
      "cell_type": "code",
      "source": [],
      "metadata": {
        "id": "eHv_uG5v6cm3"
      },
      "execution_count": null,
      "outputs": []
    }
  ]
}